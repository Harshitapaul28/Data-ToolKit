{
  "nbformat": 4,
  "nbformat_minor": 0,
  "metadata": {
    "colab": {
      "provenance": []
    },
    "kernelspec": {
      "name": "python3",
      "display_name": "Python 3"
    },
    "language_info": {
      "name": "python"
    }
  },
  "cells": [
    {
      "cell_type": "markdown",
      "source": [
        "**Data Toolkit**\n",
        "**Assignment**"
      ],
      "metadata": {
        "id": "uf4WQkPbOo3i"
      }
    },
    {
      "cell_type": "markdown",
      "source": [
        "1.What is NumPy, and why is it widely used in Python?\n",
        "\n",
        "Ans-NumPy (Numerical Python) is a powerful Python library used for working with arrays and performing mathematical operations efficiently.  \n",
        "\n",
        "### Why is NumPy widely used?  \n",
        "1. **Fast & Efficient** – Works much faster than Python lists.  \n",
        "2. **Supports Multi-Dimensional Arrays** – Easily handles large datasets.  \n",
        "3. **Mathematical Operations** – Provides built-in functions for algebra, statistics, and more.  \n",
        "4. **Used in Data Science & AI** – Forms the base for libraries like Pandas, TensorFlow, and SciPy.  \n",
        "\n",
        "It is widely used in Python for scientific computing, data analysis, and machine learning. 🚀\n",
        "\n",
        "2.How does broadcasting work in NumPy?\n",
        "\n",
        "Ans-In NumPy, **broadcasting** allows arrays of different shapes to be used in arithmetic operations without explicitly reshaping them. It automatically expands the smaller array to match the shape of the larger array.  \n",
        "\n",
        "### **How it Works (Simple Explanation):**  \n",
        "1. **Check Shapes:** NumPy compares the shapes of the arrays **from right to left**.  \n",
        "2. **Expand if Needed:** If dimensions are **1** or missing, NumPy **stretches** (broadcasts) them to match the larger array.  \n",
        "3. **Perform Operation:** Once shapes match, NumPy applies the operation element-wise.  \n",
        "\n",
        "### **Example:**  \n",
        "```python\n",
        "import numpy as np\n",
        "\n",
        "A = np.array([[1, 2, 3],  \n",
        "              [4, 5, 6]])   # Shape (2, 3)\n",
        "\n",
        "B = np.array([10, 20, 30])  # Shape (3,) -> Broadcasts to (2, 3)\n",
        "\n",
        "C = A + B   # NumPy automatically expands B to match A\n",
        "print(C)\n",
        "```\n",
        "### **Output:**  \n",
        "```\n",
        "[[11 22 33]\n",
        " [14 25 36]]\n",
        "```\n",
        "### **Key Rule:**  \n",
        "Two dimensions are **compatible** if:\n",
        "- They are **equal**, or  \n",
        "- One of them is **1** (can be stretched).  \n",
        "\n",
        "This makes NumPy operations **faster and memory-efficient** without creating extra copies! 🚀\n",
        "\n",
        "3.What is a Pandas DataFrame?\n",
        "\n",
        "Ans-A Pandas DataFrame is like a table in Excel or a database. It is a two-dimensional data structure in Python that stores data in rows and columns. You can think of it as a spreadsheet where:\n",
        "\n",
        "✅ Rows represent individual records\n",
        "✅ Columns represent different attributes of the data\n",
        "\n",
        "It is part of the Pandas library and is used for data analysis and manipulation.\n",
        "\n",
        "4.Explain the use of the groupby() method in Pandas?\n",
        "\n",
        "Ans-The `groupby()` method in Pandas is used to group data based on one or more columns. It helps to perform operations like sum, mean, count, etc., on each group separately.\n",
        "\n",
        "### Example:\n",
        "```python\n",
        "import pandas as pd\n",
        "\n",
        "data = {'Category': ['A', 'B', 'A', 'B', 'A'],\n",
        "        'Values': [10, 20, 30, 40, 50]}\n",
        "\n",
        "df = pd.DataFrame(data)\n",
        "\n",
        "grouped = df.groupby('Category').sum()\n",
        "print(grouped)\n",
        "```\n",
        "\n",
        "### Output:\n",
        "```\n",
        "          Values\n",
        "Category        \n",
        "A             90\n",
        "B             60\n",
        "```\n",
        "\n",
        "Here, the data is grouped by the \"Category\" column, and the values are summed for each group.\n",
        "\n",
        "### Uses of `groupby()`:\n",
        "1. Summarizes large datasets.\n",
        "2. Helps in data analysis and reporting.\n",
        "3. Performs aggregate functions like `sum()`, `mean()`, `count()`, etc.\n",
        "\n",
        "5.Why is Seaborn preferred for statistical visualizations?\n",
        "\n",
        "Ans-Seaborn is preferred for statistical visualizations because:  \n",
        "\n",
        "1. **Beautiful and Stylish** – It creates attractive and easy-to-read graphs with better default settings.  \n",
        "2. **Built on Matplotlib** – It works with Matplotlib, making customization easy.  \n",
        "3. **Handles Data Easily** – It works well with pandas DataFrames, making it great for data analysis.  \n",
        "4. **Statistical Features** – It has built-in statistical functions like regression and distribution plots.  \n",
        "5. **Fewer Lines of Code** – It simplifies complex plots with minimal coding effort.  \n",
        "\n",
        "6.What are the differences between NumPy arrays and Python lists?\n",
        "\n",
        "Ans-Here’s a simple answer for beginners:  \n",
        "\n",
        "### **Differences Between NumPy Arrays and Python Lists**  \n",
        "\n",
        "| Feature        | NumPy Arrays | Python Lists |\n",
        "|--------------|-------------|-------------|\n",
        "| **Speed** | Faster (uses C for computations) | Slower |\n",
        "| **Memory Usage** | Uses less memory | Uses more memory |\n",
        "| **Operations** | Supports mathematical operations directly | Needs loops for calculations |\n",
        "| **Data Type** | Requires same data type (e.g., all integers) | Can store mixed data types (e.g., int, float, string) |\n",
        "| **Functionality** | Has built-in functions for math (sum, mean, etc.) | Needs manual implementation |\n",
        "\n",
        "**Example:**  \n",
        "👉 **NumPy Array:**  \n",
        "```python\n",
        "import numpy as np\n",
        "arr = np.array([1, 2, 3])\n",
        "print(arr * 2)  # Output: [2 4 6]\n",
        "```\n",
        "👉 **Python List:**  \n",
        "```python\n",
        "lst = [1, 2, 3]\n",
        "print([x * 2 for x in lst])  # Output: [2, 4, 6]\n",
        "```\n",
        "7.What is a heatmap, and when should it be used?\n",
        "\n",
        "Ans-A **heatmap** is a type of data visualization that uses colors to represent values in a dataset. It helps to quickly identify patterns, trends, and variations in data.  \n",
        "\n",
        "### When to Use a Heatmap?  \n",
        "- To **analyze large datasets** easily.  \n",
        "- To **spot trends and patterns** in data.  \n",
        "- To **show correlations** between variables.  \n",
        "- To **visualize website user activity** (e.g., where users click the most).  \n",
        "- To **track performance metrics** in business and finance.  \n",
        "\n",
        "8. What does the term “vectorized operation” mean in NumPy?\n",
        "\n",
        "Ans-A **vectorized operation** in NumPy means performing operations on entire arrays without using loops. NumPy applies the operation to each element automatically, making the code **faster and more efficient**.  \n",
        "\n",
        "For example:  \n",
        "\n",
        "```python\n",
        "import numpy as np\n",
        "\n",
        "arr = np.array([1, 2, 3, 4])\n",
        "result = arr * 2  # Each element is multiplied by 2\n",
        "print(result)  # Output: [2 4 6 8]\n",
        "```\n",
        "\n",
        "Here, NumPy **automatically** multiplies each element by 2 without using a loop.\n",
        "\n",
        "9.How does Matplotlib differ from Plotly?\n",
        "\n",
        "Ans-Here’s a simple answer for beginners:  \n",
        "\n",
        "**Matplotlib** is a basic and powerful plotting library in Python, mainly used for static graphs (like bar charts, line graphs, and scatter plots). It is great for simple visualizations and works well with NumPy and Pandas.  \n",
        "\n",
        "**Plotly** is an advanced library that creates interactive and dynamic graphs. It allows zooming, hovering, and moving elements in the chart. It’s better for dashboards and web-based applications.  \n",
        "\n",
        "### Key Difference:  \n",
        "- **Matplotlib → Static graphs** (good for reports)  \n",
        "- **Plotly → Interactive graphs** (good for web & dashboards)  \n",
        "\n",
        "10.What is the significance of hierarchical indexing in Pandas?\n",
        "\n",
        "Ans-Hierarchical indexing in Pandas allows you to have multiple levels (or layers) of index labels in a DataFrame or Series. This is useful for organizing and working with complex datasets, such as grouping data or handling multi-dimensional data in a 2D format.\n",
        "\n",
        "### **Key Benefits:**\n",
        "1. **Better Organization** – Helps structure data in a more readable way.\n",
        "2. **Easier Data Selection** – Allows accessing data using multiple index levels.\n",
        "3. **Grouping and Aggregation** – Makes it easy to analyze and summarize data.\n",
        "4. **Efficient Data Handling** – Reduces redundancy and improves performance.\n",
        "\n",
        "### **Example:**\n",
        "```python\n",
        "import pandas as pd\n",
        "\n",
        "# Creating a MultiIndex (Hierarchical Index)\n",
        "index = [('A', 1), ('A', 2), ('B', 1), ('B', 2)]\n",
        "multi_index = pd.MultiIndex.from_tuples(index, names=['Letter', 'Number'])\n",
        "\n",
        "# Creating a DataFrame\n",
        "df = pd.DataFrame({'Value': [10, 20, 30, 40]}, index=multi_index)\n",
        "\n",
        "print(df)\n",
        "```\n",
        "### **Output:**\n",
        "```\n",
        "              Value\n",
        "Letter Number       \n",
        "A      1        10\n",
        "       2        20\n",
        "B      1        30\n",
        "       2        40\n",
        "```\n",
        "\n",
        "11.What is the role of Seaborn’s pairplot() function?\n",
        "\n",
        "Ans-Seaborn’s `pairplot()` function is used to create a grid of scatter plots for visualizing relationships between multiple numerical variables in a dataset. It helps in identifying patterns, correlations, and distributions in the data.\n",
        "\n",
        "12.What is the purpose of the describe() function in Pandas?\n",
        "\n",
        "Ans-The `describe()` function in Pandas is used to quickly get summary statistics of numerical data in a DataFrame. It provides important details like **count, mean, standard deviation, minimum, maximum, and quartiles (25%, 50%, 75%)** for each numerical column.\n",
        "\n",
        "### Example:\n",
        "```python\n",
        "import pandas as pd\n",
        "\n",
        "data = {'Age': [23, 45, 31, 35, 29]}\n",
        "df = pd.DataFrame(data)\n",
        "\n",
        "print(df.describe())\n",
        "```\n",
        "### Output:\n",
        "```\n",
        "             Age\n",
        "count   5.000000\n",
        "mean   32.600000\n",
        "std     8.777499\n",
        "min    23.000000\n",
        "25%    29.000000\n",
        "50%    31.000000\n",
        "75%    35.000000\n",
        "max    45.000000\n",
        "```\n",
        "13.Why is handling missing data important in Pandas?\n",
        "\n",
        "Ans-Handling missing data in Pandas is important because:  \n",
        "\n",
        "1. **Ensures Accuracy** – Missing values can lead to incorrect analysis.  \n",
        "2. **Prevents Errors** – Some operations may fail if data is missing.  \n",
        "3. **Improves Model Performance** – In machine learning, missing data can affect predictions.  \n",
        "4. **Better Decision Making** – Clean data leads to better insights.  \n",
        "5. **Maintains Data Integrity** – Filling or removing missing values helps keep data useful.  \n",
        "\n",
        "In Pandas, we can handle missing data using:  \n",
        "- `dropna()` – Removes missing values.  \n",
        "- `fillna(value)` – Fills missing values with a specific value.  \n",
        "- `interpolate()` – Estimates missing values based on other data.\n",
        "\n",
        "14.What are the benefits of using Plotly for data visualization?\n",
        "\n",
        "Ans-Plotly is a great tool for data visualization, especially for beginners. Here are some key benefits:  \n",
        "\n",
        "1. **Interactive Charts** – You can zoom, hover, and explore data easily.  \n",
        "2. **Easy to Use** – Simple code to create beautiful visualizations.  \n",
        "3. **Supports Multiple Chart Types** – Line, bar, scatter, pie charts, and more.  \n",
        "4. **Works with Python, R, and JavaScript** – Useful for different programming languages.  \n",
        "5. **Customizable** – Change colors, labels, and styles as needed.  \n",
        "6. **Supports Big Data** – Can handle large datasets efficiently.  \n",
        "7. **Good for Dashboards** – Works well with Dash to build interactive dashboards.  \n",
        "8. **Free & Open Source** – Basic features are available for free.  \n",
        "\n",
        "15.How does NumPy handle multidimensional arrays?\n",
        "\n",
        "Ans-NumPy handles multidimensional arrays using the `ndarray` (N-dimensional array) object. It allows storing and working with multiple dimensions efficiently. Here’s how:  \n",
        "\n",
        "1. **Creating Multidimensional Arrays**:  \n",
        "   - Use `numpy.array()` with nested lists.  \n",
        "   - Example:  \n",
        "     ```python\n",
        "     import numpy as np\n",
        "     arr = np.array([[1, 2, 3], [4, 5, 6]])  # 2D array\n",
        "     print(arr)\n",
        "     ```  \n",
        "\n",
        "2. **Shape and Dimensions**:  \n",
        "   - Use `.shape` to check dimensions (rows, columns).  \n",
        "   - Example:  \n",
        "     ```python\n",
        "     print(arr.shape)  # Output: (2, 3)\n",
        "     print(arr.ndim)   # Output: 2 (number of dimensions)\n",
        "     ```  \n",
        "\n",
        "3. **Indexing & Slicing**:  \n",
        "   - Access elements using row and column indices.  \n",
        "   - Example:  \n",
        "     ```python\n",
        "     print(arr[0, 1])  # Output: 2 (row 0, column 1)\n",
        "     ```  \n",
        "\n",
        "4. **Operations on Multi-D Arrays**:  \n",
        "   - Perform mathematical operations directly.  \n",
        "   - Example:  \n",
        "     ```python\n",
        "     arr2 = arr * 2\n",
        "     print(arr2)  \n",
        "     # Output: [[ 2  4  6]\n",
        "     #          [ 8 10 12]]\n",
        "     ```  \n",
        "\n",
        "16.What is the role of Bokeh in data visualization?\n",
        "\n",
        "Ans-Bokeh is a Python library used for creating interactive and visually appealing data visualizations. It helps display data in the form of charts, graphs, and dashboards that can be used on web pages. Bokeh is useful because it allows zooming, panning, and tooltips, making data exploration easier.\n",
        "\n",
        "17.Explain the difference between apply() and map() in Pandas?\n",
        "\n",
        "Ans-In **Pandas**, both `apply()` and `map()` are used to apply functions to data, but they work differently:  \n",
        "\n",
        "### 1. **`map()`**  \n",
        "- Used only on **Series** (one column at a time).  \n",
        "- Works with **functions, dictionaries, or Series**.  \n",
        "- Applies the function **element-wise** (to each value).  \n",
        "\n",
        "📌 **Example:**  \n",
        "```python\n",
        "import pandas as pd\n",
        "\n",
        "s = pd.Series([1, 2, 3, 4])\n",
        "print(s.map(lambda x: x * 2))  # Multiply each value by 2\n",
        "```\n",
        "**Output:**  \n",
        "```\n",
        "0    2\n",
        "1    4\n",
        "2    6\n",
        "3    8\n",
        "dtype: int64\n",
        "```\n",
        "\n",
        "---\n",
        "\n",
        "### 2. **`apply()`**  \n",
        "- Works on **both Series and DataFrames**.  \n",
        "- Can be used on **rows or columns** (for DataFrames).  \n",
        "- More flexible than `map()`.  \n",
        "\n",
        "📌 **Example (Series):**  \n",
        "```python\n",
        "print(s.apply(lambda x: x * 2))  # Same as map()\n",
        "```\n",
        "\n",
        "📌 **Example (DataFrame):**  \n",
        "```python\n",
        "df = pd.DataFrame({'A': [1, 2, 3], 'B': [4, 5, 6]})\n",
        "print(df.apply(lambda x: x.sum(), axis=0))  # Sum column-wise\n",
        "```\n",
        "**Output:**  \n",
        "```\n",
        "A     6\n",
        "B    15\n",
        "dtype: int64\n",
        "```\n",
        "\n",
        "---\n",
        "\n",
        "### **Key Differences**  \n",
        "| Feature     | `map()`  | `apply()`  |\n",
        "|------------|---------|---------|\n",
        "| Works on  | Series only | Series & DataFrame |\n",
        "| Input Type | Function, dict, Series | Function |\n",
        "| Works on  | Each element | Rows (`axis=1`) or Columns (`axis=0`) |\n",
        "| Flexibility | Limited | More powerful |\n",
        "\n",
        "### **When to Use?**  \n",
        "- Use **`map()`** for simple transformations on a single column.  \n",
        "- Use **`apply()`** for more complex row-wise or column-wise operations.  \n",
        "\n",
        "18.What are some advanced features of NumPy?\n",
        "\n",
        "Ans-If you're a beginner, here’s a simple explanation of some advanced features of NumPy:  \n",
        "\n",
        "1. **Broadcasting** – Allows operations on arrays of different shapes without writing extra loops.  \n",
        "2. **Vectorization** – Speeds up calculations by applying operations to entire arrays instead of using slow Python loops.  \n",
        "3. **Fancy Indexing** – Lets you select specific rows/columns using lists or conditions.  \n",
        "4. **Masked Arrays** – Useful for handling missing or invalid data.  \n",
        "5. **Linear Algebra Functions** – Includes operations like matrix multiplication, eigenvalues, and determinants.  \n",
        "6. **FFT (Fast Fourier Transform)** – Used for signal processing and analyzing frequency components.  \n",
        "7. **Memory Mapping** – Helps in working with large files without loading them entirely into memory.  \n",
        "\n",
        "19.How does Pandas simplify time series analysis?\n",
        "\n",
        "Ans-Pandas simplifies time series analysis by providing:  \n",
        "\n",
        "1. **Datetime Indexing** – Easily convert columns to datetime format and set them as index.  \n",
        "2. **Resampling** – Change time frequency (e.g., daily to monthly) using `.resample()`.  \n",
        "3. **Shifting and Lagging** – Move data forward or backward using `.shift()`.  \n",
        "4. **Rolling Windows** – Calculate moving averages with `.rolling().mean()`.  \n",
        "5. **Time Zone Handling** – Convert time zones with `.tz_localize()` and `.tz_convert()`.  \n",
        "6. **Date-Based Filtering** – Select data by date ranges using `.loc[]`.  \n",
        "\n",
        "20.What is the role of a pivot table in Pandas?\n",
        "\n",
        "Ans-A **Pivot Table** in Pandas is used to **summarize and analyze data** by rearranging and grouping it in a meaningful way. It helps in:  \n",
        "\n",
        "- Organizing large datasets  \n",
        "- Finding **sum, average, count, or other statistics**  \n",
        "- Grouping data based on different categories  \n",
        "\n",
        "It works like an **Excel Pivot Table**, allowing easy data analysis with just a few lines of code.  \n",
        "\n",
        "Example:  \n",
        "```python\n",
        "import pandas as pd\n",
        "\n",
        "data = {'Category': ['A', 'B', 'A', 'B'],\n",
        "        'Sales': [100, 200, 150, 250]}\n",
        "\n",
        "df = pd.DataFrame(data)\n",
        "\n",
        "pivot_table = df.pivot_table(values='Sales', index='Category', aggfunc='sum')\n",
        "print(pivot_table)\n",
        "```\n",
        "This groups sales by **Category** and shows the total sales for each.\n",
        "\n",
        "21.Why is NumPy’s array slicing faster than Python’s list slicing?\n",
        "\n",
        "Ans-NumPy's array slicing is faster than Python’s list slicing because:  \n",
        "\n",
        "1. **Fixed Data Type** – NumPy arrays store elements of the same data type, making operations faster and more memory-efficient.  \n",
        "2. **Continuous Memory Storage** – NumPy stores data in a contiguous block of memory, allowing for efficient access and manipulation.  \n",
        "3. **Optimized C Implementation** – NumPy is built in C, which performs operations much faster than Python’s built-in lists.  \n",
        "4. **Views Instead of Copies** – NumPy slicing returns a *view* (reference to the same data) instead of creating a new list, saving time and memory.  \n",
        "\n",
        "22.What are some common use cases for Seaborn?\n",
        "\n",
        "Ans-Seaborn is a Python library used for data visualization. Some common use cases include:  \n",
        "\n",
        "1. **Visualizing distributions** – Histograms, KDE plots, and box plots to understand data spread.  \n",
        "2. **Comparing categories** – Bar plots and count plots to compare different groups.  \n",
        "3. **Analyzing relationships** – Scatter plots and regression plots to see how variables are related.  \n",
        "4. **Working with time series** – Line plots for tracking trends over time.  \n",
        "5. **Creating heatmaps** – Correlation heatmaps to identify patterns in data.  \n",
        "6. **Enhancing Matplotlib visuals** – Seaborn makes Matplotlib plots more attractive and informative.  \n",
        "\n"
      ],
      "metadata": {
        "id": "w04SqfVBO1n1"
      }
    },
    {
      "cell_type": "markdown",
      "source": [
        "**Practical**"
      ],
      "metadata": {
        "id": "oCeDssHQVC0y"
      }
    },
    {
      "cell_type": "markdown",
      "source": [
        "1.How do you create a 2D NumPy array and calculate the sum of each row?"
      ],
      "metadata": {
        "id": "iwuHdw9VVFce"
      }
    },
    {
      "cell_type": "code",
      "source": [
        "import numpy as np\n",
        "\n",
        "# Create a 2D NumPy array\n",
        "array_2d = np.array([[1, 2, 3],\n",
        "                      [4, 5, 6],\n",
        "                      [7, 8, 9]])\n",
        "\n",
        "# Calculate the sum of each row\n",
        "row_sums = np.sum(array_2d, axis=1)\n",
        "\n",
        "# Print the results\n",
        "print(\"2D Array:\")\n",
        "print(array_2d)\n",
        "print(\"Sum of each row:\", row_sums)\n"
      ],
      "metadata": {
        "colab": {
          "base_uri": "https://localhost:8080/"
        },
        "id": "3qExWbunVJ9W",
        "outputId": "1e7f77f9-d865-4c8e-b85e-1b2f165a1e39"
      },
      "execution_count": 1,
      "outputs": [
        {
          "output_type": "stream",
          "name": "stdout",
          "text": [
            "2D Array:\n",
            "[[1 2 3]\n",
            " [4 5 6]\n",
            " [7 8 9]]\n",
            "Sum of each row: [ 6 15 24]\n"
          ]
        }
      ]
    },
    {
      "cell_type": "markdown",
      "source": [
        "2.Write a Pandas script to find the mean of a specific column in a DataFrame\n"
      ],
      "metadata": {
        "id": "g_OYh8nDVd5a"
      }
    },
    {
      "cell_type": "code",
      "source": [
        "import pandas as pd\n",
        "\n",
        "# Sample DataFrame\n",
        "data = {'A': [10, 20, 30, 40, 50], 'B': [5, 15, 25, 35, 45]}\n",
        "df = pd.DataFrame(data)\n",
        "\n",
        "# Calculate the mean of column 'A'\n",
        "mean_A = df['A'].mean()\n",
        "\n",
        "print(\"Mean of column A:\", mean_A)\n"
      ],
      "metadata": {
        "colab": {
          "base_uri": "https://localhost:8080/"
        },
        "id": "TET0TuSsVhoj",
        "outputId": "96768756-de7c-4606-d014-045724d8397d"
      },
      "execution_count": 2,
      "outputs": [
        {
          "output_type": "stream",
          "name": "stdout",
          "text": [
            "Mean of column A: 30.0\n"
          ]
        }
      ]
    },
    {
      "cell_type": "markdown",
      "source": [
        "3.Create a scatter plot using Matplotlib?\n"
      ],
      "metadata": {
        "id": "b71cmAjfVrPk"
      }
    },
    {
      "cell_type": "code",
      "source": [
        "import matplotlib.pyplot as plt\n",
        "\n",
        "# Sample data\n",
        "x = [1, 2, 3, 4, 5]\n",
        "y = [10, 20, 25, 30, 50]\n",
        "\n",
        "# Create scatter plot\n",
        "plt.scatter(x, y, color='blue', marker='o')\n",
        "\n",
        "# Add labels and title\n",
        "plt.xlabel('X-axis Label')\n",
        "plt.ylabel('Y-axis Label')\n",
        "plt.title('Simple Scatter Plot')\n",
        "\n",
        "# Show the plot\n",
        "plt.show()"
      ],
      "metadata": {
        "colab": {
          "base_uri": "https://localhost:8080/",
          "height": 472
        },
        "id": "8yMbTSa4Vw3H",
        "outputId": "867b428f-3c46-4766-c3bf-4e354e9286c4"
      },
      "execution_count": 3,
      "outputs": [
        {
          "output_type": "display_data",
          "data": {
            "text/plain": [
              "<Figure size 640x480 with 1 Axes>"
            ],
            "image/png": "[encoded data removed]"
          },
          "metadata": {}
        }
      ]
    },
    {
      "cell_type": "markdown",
      "source": [
        "4. How do you calculate the correlation matrix using Seaborn and visualize it with a heatmap?"
      ],
      "metadata": {
        "id": "Bcldaa-IVwUG"
      }
    },
    {
      "cell_type": "code",
      "source": [
        "import seaborn as sns\n",
        "import matplotlib.pyplot as plt\n",
        "import pandas as pd\n",
        "\n",
        "# Sample dataset\n",
        "data = {\n",
        "    'A': [1, 2, 3, 4, 5],\n",
        "    'B': [2, 3, 4, 5, 6],\n",
        "    'C': [5, 4, 3, 2, 1],\n",
        "    'D': [3, 5, 2, 8, 7]\n",
        "}\n",
        "\n",
        "# Convert dictionary to DataFrame\n",
        "df = pd.DataFrame(data)\n",
        "\n",
        "# Calculate correlation matrix\n",
        "corr_matrix = df.corr()\n",
        "\n",
        "# Plot heatmap\n",
        "plt.figure(figsize=(6, 4))\n",
        "sns.heatmap(corr_matrix, annot=True, cmap='coolwarm', fmt=\".2f\", linewidths=0.5)\n",
        "plt.title(\"Correlation Matrix Heatmap\")\n",
        "plt.show()\n"
      ],
      "metadata": {
        "colab": {
          "base_uri": "https://localhost:8080/",
          "height": 391
        },
        "id": "Ejix2lvsV_hc",
        "outputId": "da3a0785-5a44-4634-a3e2-4366f3754d47"
      },
      "execution_count": 4,
      "outputs": [
        {
          "output_type": "display_data",
          "data": {
            "text/plain": [
              "<Figure size 600x400 with 2 Axes>"
            ],
            "image/png": "[encoded data removed]"
          },
          "metadata": {}
        }
      ]
    },
    {
      "cell_type": "markdown",
      "source": [
        "5.Generate a bar plot using Plotly."
      ],
      "metadata": {
        "id": "xhKB0tsVWKTl"
      }
    },
    {
      "cell_type": "code",
      "source": [
        "import plotly.graph_objects as go\n",
        "\n",
        "# Sample data\n",
        "categories = ['Apple', 'Banana', 'Orange', 'Grapes']\n",
        "values = [10, 15, 7, 12]\n",
        "\n",
        "# Create a bar plot\n",
        "fig = go.Figure([go.Bar(x=categories, y=values)])\n",
        "\n",
        "# Customize layout\n",
        "fig.update_layout(title=\"Fruit Sales\", xaxis_title=\"Fruits\", yaxis_title=\"Quantity\")\n",
        "\n",
        "# Show the plot\n",
        "fig.show()\n"
      ],
      "metadata": {
        "colab": {
          "base_uri": "https://localhost:8080/",
          "height": 542
        },
        "id": "vnHK54zlWOWY",
        "outputId": "6cf5de29-e8ed-4c69-94d1-fd043f668c31"
      },
      "execution_count": 5,
      "outputs": [
        {
          "output_type": "display_data",
          "data": {
            "text/html": [
              "<html>\n",
              "<head><meta charset=\"utf-8\" /></head>\n",
              "<body>\n",
              "    <div>            <script src=\"https://cdnjs.cloudflare.com/ajax/libs/mathjax/2.7.5/MathJax.js?config=TeX-AMS-MML_SVG\"></script><script type=\"text/javascript\">if (window.MathJax && window.MathJax.Hub && window.MathJax.Hub.Config) {window.MathJax.Hub.Config({SVG: {font: \"STIX-Web\"}});}</script>                <script type=\"text/javascript\">window.PlotlyConfig = {MathJaxConfig: 'local'};</script>\n",
              "        <script charset=\"utf-8\" src=\"https://cdn.plot.ly/plotly-2.35.2.min.js\"></script>                <div id=\"73e9927d-9de3-463e-b250-c75a09a74bfc\" class=\"plotly-graph-div\" style=\"height:525px; width:100%;\"></div>            <script type=\"text/javascript\">                                    window.PLOTLYENV=window.PLOTLYENV || {};                                    if (document.getElementById(\"73e9927d-9de3-463e-b250-c75a09a74bfc\")) {                    Plotly.newPlot(                        \"73e9927d-9de3-463e-b250-c75a09a74bfc\",                        [{\"x\":[\"Apple\",\"Banana\",\"Orange\",\"Grapes\"],\"y\":[10,15,7,12],\"type\":\"bar\"}],                        {\"template\":{\"data\":{\"histogram2dcontour\":[{\"type\":\"histogram2dcontour\",\"colorbar\":{\"outlinewidth\":0,\"ticks\":\"\"},\"colorscale\":[[0.0,\"#0d0887\"],[0.1111111111111111,\"#46039f\"],[0.2222222222222222,\"#7201a8\"],[0.3333333333333333,\"#9c179e\"],[0.4444444444444444,\"#bd3786\"],[0.5555555555555556,\"#d8576b\"],[0.6666666666666666,\"#ed7953\"],[0.7777777777777778,\"#fb9f3a\"],[0.8888888888888888,\"#fdca26\"],[1.0,\"#f0f921\"]]}],\"choropleth\":[{\"type\":\"choropleth\",\"colorbar\":{\"outlinewidth\":0,\"ticks\":\"\"}}],\"histogram2d\":[{\"type\":\"histogram2d\",\"colorbar\":{\"outlinewidth\":0,\"ticks\":\"\"},\"colorscale\":[[0.0,\"#0d0887\"],[0.1111111111111111,\"#46039f\"],[0.2222222222222222,\"#7201a8\"],[0.3333333333333333,\"#9c179e\"],[0.4444444444444444,\"#bd3786\"],[0.5555555555555556,\"#d8576b\"],[0.6666666666666666,\"#ed7953\"],[0.7777777777777778,\"#fb9f3a\"],[0.8888888888888888,\"#fdca26\"],[1.0,\"#f0f921\"]]}],\"heatmap\":[{\"type\":\"heatmap\",\"colorbar\":{\"outlinewidth\":0,\"ticks\":\"\"},\"colorscale\":[[0.0,\"#0d0887\"],[0.1111111111111111,\"#46039f\"],[0.2222222222222222,\"#7201a8\"],[0.3333333333333333,\"#9c179e\"],[0.4444444444444444,\"#bd3786\"],[0.5555555555555556,\"#d8576b\"],[0.6666666666666666,\"#ed7953\"],[0.7777777777777778,\"#fb9f3a\"],[0.8888888888888888,\"#fdca26\"],[1.0,\"#f0f921\"]]}],\"heatmapgl\":[{\"type\":\"heatmapgl\",\"colorbar\":{\"outlinewidth\":0,\"ticks\":\"\"},\"colorscale\":[[0.0,\"#0d0887\"],[0.1111111111111111,\"#46039f\"],[0.2222222222222222,\"#7201a8\"],[0.3333333333333333,\"#9c179e\"],[0.4444444444444444,\"#bd3786\"],[0.5555555555555556,\"#d8576b\"],[0.6666666666666666,\"#ed7953\"],[0.7777777777777778,\"#fb9f3a\"],[0.8888888888888888,\"#fdca26\"],[1.0,\"#f0f921\"]]}],\"contourcarpet\":[{\"type\":\"contourcarpet\",\"colorbar\":{\"outlinewidth\":0,\"ticks\":\"\"}}],\"contour\":[{\"type\":\"contour\",\"colorbar\":{\"outlinewidth\":0,\"ticks\":\"\"},\"colorscale\":[[0.0,\"#0d0887\"],[0.1111111111111111,\"#46039f\"],[0.2222222222222222,\"#7201a8\"],[0.3333333333333333,\"#9c179e\"],[0.4444444444444444,\"#bd3786\"],[0.5555555555555556,\"#d8576b\"],[0.6666666666666666,\"#ed7953\"],[0.7777777777777778,\"#fb9f3a\"],[0.8888888888888888,\"#fdca26\"],[1.0,\"#f0f921\"]]}],\"surface\":[{\"type\":\"surface\",\"colorbar\":{\"outlinewidth\":0,\"ticks\":\"\"},\"colorscale\":[[0.0,\"#0d0887\"],[0.1111111111111111,\"#46039f\"],[0.2222222222222222,\"#7201a8\"],[0.3333333333333333,\"#9c179e\"],[0.4444444444444444,\"#bd3786\"],[0.5555555555555556,\"#d8576b\"],[0.6666666666666666,\"#ed7953\"],[0.7777777777777778,\"#fb9f3a\"],[0.8888888888888888,\"#fdca26\"],[1.0,\"#f0f921\"]]}],\"mesh3d\":[{\"type\":\"mesh3d\",\"colorbar\":{\"outlinewidth\":0,\"ticks\":\"\"}}],\"scatter\":[{\"fillpattern\":{\"fillmode\":\"overlay\",\"size\":10,\"solidity\":0.2},\"type\":\"scatter\"}],\"parcoords\":[{\"type\":\"parcoords\",\"line\":{\"colorbar\":{\"outlinewidth\":0,\"ticks\":\"\"}}}],\"scatterpolargl\":[{\"type\":\"scatterpolargl\",\"marker\":{\"colorbar\":{\"outlinewidth\":0,\"ticks\":\"\"}}}],\"bar\":[{\"error_x\":{\"color\":\"#2a3f5f\"},\"error_y\":{\"color\":\"#2a3f5f\"},\"marker\":{\"line\":{\"color\":\"#E5ECF6\",\"width\":0.5},\"pattern\":{\"fillmode\":\"overlay\",\"size\":10,\"solidity\":0.2}},\"type\":\"bar\"}],\"scattergeo\":[{\"type\":\"scattergeo\",\"marker\":{\"colorbar\":{\"outlinewidth\":0,\"ticks\":\"\"}}}],\"scatterpolar\":[{\"type\":\"scatterpolar\",\"marker\":{\"colorbar\":{\"outlinewidth\":0,\"ticks\":\"\"}}}],\"histogram\":[{\"marker\":{\"pattern\":{\"fillmode\":\"overlay\",\"size\":10,\"solidity\":0.2}},\"type\":\"histogram\"}],\"scattergl\":[{\"type\":\"scattergl\",\"marker\":{\"colorbar\":{\"outlinewidth\":0,\"ticks\":\"\"}}}],\"scatter3d\":[{\"type\":\"scatter3d\",\"line\":{\"colorbar\":{\"outlinewidth\":0,\"ticks\":\"\"}},\"marker\":{\"colorbar\":{\"outlinewidth\":0,\"ticks\":\"\"}}}],\"scattermapbox\":[{\"type\":\"scattermapbox\",\"marker\":{\"colorbar\":{\"outlinewidth\":0,\"ticks\":\"\"}}}],\"scatterternary\":[{\"type\":\"scatterternary\",\"marker\":{\"colorbar\":{\"outlinewidth\":0,\"ticks\":\"\"}}}],\"scattercarpet\":[{\"type\":\"scattercarpet\",\"marker\":{\"colorbar\":{\"outlinewidth\":0,\"ticks\":\"\"}}}],\"carpet\":[{\"aaxis\":{\"endlinecolor\":\"#2a3f5f\",\"gridcolor\":\"white\",\"linecolor\":\"white\",\"minorgridcolor\":\"white\",\"startlinecolor\":\"#2a3f5f\"},\"baxis\":{\"endlinecolor\":\"#2a3f5f\",\"gridcolor\":\"white\",\"linecolor\":\"white\",\"minorgridcolor\":\"white\",\"startlinecolor\":\"#2a3f5f\"},\"type\":\"carpet\"}],\"table\":[{\"cells\":{\"fill\":{\"color\":\"#EBF0F8\"},\"line\":{\"color\":\"white\"}},\"header\":{\"fill\":{\"color\":\"#C8D4E3\"},\"line\":{\"color\":\"white\"}},\"type\":\"table\"}],\"barpolar\":[{\"marker\":{\"line\":{\"color\":\"#E5ECF6\",\"width\":0.5},\"pattern\":{\"fillmode\":\"overlay\",\"size\":10,\"solidity\":0.2}},\"type\":\"barpolar\"}],\"pie\":[{\"automargin\":true,\"type\":\"pie\"}]},\"layout\":{\"autotypenumbers\":\"strict\",\"colorway\":[\"#636efa\",\"#EF553B\",\"#00cc96\",\"#ab63fa\",\"#FFA15A\",\"#19d3f3\",\"#FF6692\",\"#B6E880\",\"#FF97FF\",\"#FECB52\"],\"font\":{\"color\":\"#2a3f5f\"},\"hovermode\":\"closest\",\"hoverlabel\":{\"align\":\"left\"},\"paper_bgcolor\":\"white\",\"plot_bgcolor\":\"#E5ECF6\",\"polar\":{\"bgcolor\":\"#E5ECF6\",\"angularaxis\":{\"gridcolor\":\"white\",\"linecolor\":\"white\",\"ticks\":\"\"},\"radialaxis\":{\"gridcolor\":\"white\",\"linecolor\":\"white\",\"ticks\":\"\"}},\"ternary\":{\"bgcolor\":\"#E5ECF6\",\"aaxis\":{\"gridcolor\":\"white\",\"linecolor\":\"white\",\"ticks\":\"\"},\"baxis\":{\"gridcolor\":\"white\",\"linecolor\":\"white\",\"ticks\":\"\"},\"caxis\":{\"gridcolor\":\"white\",\"linecolor\":\"white\",\"ticks\":\"\"}},\"coloraxis\":{\"colorbar\":{\"outlinewidth\":0,\"ticks\":\"\"}},\"colorscale\":{\"sequential\":[[0.0,\"#0d0887\"],[0.1111111111111111,\"#46039f\"],[0.2222222222222222,\"#7201a8\"],[0.3333333333333333,\"#9c179e\"],[0.4444444444444444,\"#bd3786\"],[0.5555555555555556,\"#d8576b\"],[0.6666666666666666,\"#ed7953\"],[0.7777777777777778,\"#fb9f3a\"],[0.8888888888888888,\"#fdca26\"],[1.0,\"#f0f921\"]],\"sequentialminus\":[[0.0,\"#0d0887\"],[0.1111111111111111,\"#46039f\"],[0.2222222222222222,\"#7201a8\"],[0.3333333333333333,\"#9c179e\"],[0.4444444444444444,\"#bd3786\"],[0.5555555555555556,\"#d8576b\"],[0.6666666666666666,\"#ed7953\"],[0.7777777777777778,\"#fb9f3a\"],[0.8888888888888888,\"#fdca26\"],[1.0,\"#f0f921\"]],\"diverging\":[[0,\"#8e0152\"],[0.1,\"#c51b7d\"],[0.2,\"#de77ae\"],[0.3,\"#f1b6da\"],[0.4,\"#fde0ef\"],[0.5,\"#f7f7f7\"],[0.6,\"#e6f5d0\"],[0.7,\"#b8e186\"],[0.8,\"#7fbc41\"],[0.9,\"#4d9221\"],[1,\"#276419\"]]},\"xaxis\":{\"gridcolor\":\"white\",\"linecolor\":\"white\",\"ticks\":\"\",\"title\":{\"standoff\":15},\"zerolinecolor\":\"white\",\"automargin\":true,\"zerolinewidth\":2},\"yaxis\":{\"gridcolor\":\"white\",\"linecolor\":\"white\",\"ticks\":\"\",\"title\":{\"standoff\":15},\"zerolinecolor\":\"white\",\"automargin\":true,\"zerolinewidth\":2},\"scene\":{\"xaxis\":{\"backgroundcolor\":\"#E5ECF6\",\"gridcolor\":\"white\",\"linecolor\":\"white\",\"showbackground\":true,\"ticks\":\"\",\"zerolinecolor\":\"white\",\"gridwidth\":2},\"yaxis\":{\"backgroundcolor\":\"#E5ECF6\",\"gridcolor\":\"white\",\"linecolor\":\"white\",\"showbackground\":true,\"ticks\":\"\",\"zerolinecolor\":\"white\",\"gridwidth\":2},\"zaxis\":{\"backgroundcolor\":\"#E5ECF6\",\"gridcolor\":\"white\",\"linecolor\":\"white\",\"showbackground\":true,\"ticks\":\"\",\"zerolinecolor\":\"white\",\"gridwidth\":2}},\"shapedefaults\":{\"line\":{\"color\":\"#2a3f5f\"}},\"annotationdefaults\":{\"arrowcolor\":\"#2a3f5f\",\"arrowhead\":0,\"arrowwidth\":1},\"geo\":{\"bgcolor\":\"white\",\"landcolor\":\"#E5ECF6\",\"subunitcolor\":\"white\",\"showland\":true,\"showlakes\":true,\"lakecolor\":\"white\"},\"title\":{\"x\":0.05},\"mapbox\":{\"style\":\"light\"}}},\"title\":{\"text\":\"Fruit Sales\"},\"xaxis\":{\"title\":{\"text\":\"Fruits\"}},\"yaxis\":{\"title\":{\"text\":\"Quantity\"}}},                        {\"responsive\": true}                    ).then(function(){\n",
              "                            \n",
              "var gd = document.getElementById('73e9927d-9de3-463e-b250-c75a09a74bfc');\n",
              "var x = new MutationObserver(function (mutations, observer) {{\n",
              "        var display = window.getComputedStyle(gd).display;\n",
              "        if (!display || display === 'none') {{\n",
              "            console.log([gd, 'removed!']);\n",
              "            Plotly.purge(gd);\n",
              "            observer.disconnect();\n",
              "        }}\n",
              "}});\n",
              "\n",
              "// Listen for the removal of the full notebook cells\n",
              "var notebookContainer = gd.closest('#notebook-container');\n",
              "if (notebookContainer) {{\n",
              "    x.observe(notebookContainer, {childList: true});\n",
              "}}\n",
              "\n",
              "// Listen for the clearing of the current output cell\n",
              "var outputEl = gd.closest('.output');\n",
              "if (outputEl) {{\n",
              "    x.observe(outputEl, {childList: true});\n",
              "}}\n",
              "\n",
              "                        })                };                            </script>        </div>\n",
              "</body>\n",
              "</html>"
            ]
          },
          "metadata": {}
        }
      ]
    },
    {
      "cell_type": "markdown",
      "source": [
        "6.Create a DataFrame and add a new column based on an existing column."
      ],
      "metadata": {
        "id": "sCe9fwHrWWmG"
      }
    },
    {
      "cell_type": "code",
      "source": [
        "import pandas as pd\n",
        "\n",
        "# Create a DataFrame\n",
        "data = {'Name': ['Alice', 'Bob', 'Charlie'], 'Age': [25, 30, 35]}\n",
        "df = pd.DataFrame(data)\n",
        "\n",
        "# Ensure the 'Age' column is numeric\n",
        "df['Age'] = pd.to_numeric(df['Age'], errors='coerce')\n",
        "\n",
        "# Add a new column based on the existing 'Age' column\n",
        "df['Age in 10 Years'] = df['Age'].apply(lambda x: x + 10 if pd.notnull(x) else x)\n",
        "\n",
        "# Display the DataFrame\n",
        "print(df)"
      ],
      "metadata": {
        "colab": {
          "base_uri": "https://localhost:8080/"
        },
        "id": "i8omtkFvWc3z",
        "outputId": "c4fa5745-3457-4812-b3a5-12cd1a1c76ae"
      },
      "execution_count": 7,
      "outputs": [
        {
          "output_type": "stream",
          "name": "stdout",
          "text": [
            "      Name  Age  Age in 10 Years\n",
            "0    Alice   25               35\n",
            "1      Bob   30               40\n",
            "2  Charlie   35               45\n"
          ]
        }
      ]
    },
    {
      "cell_type": "markdown",
      "source": [
        "7.Write a program to perform element-wise multiplication of two NumPy arrays."
      ],
      "metadata": {
        "id": "cGCvzrr0WzvO"
      }
    },
    {
      "cell_type": "code",
      "source": [
        "import numpy as np\n",
        "\n",
        "# Define two NumPy arrays\n",
        "array1 = np.array([1, 2, 3, 4])\n",
        "array2 = np.array([5, 6, 7, 8])\n",
        "\n",
        "# Perform element-wise multiplication\n",
        "result = array1 * array2\n",
        "\n",
        "# Print the result\n",
        "print(\"Result of element-wise multiplication:\", result)\n"
      ],
      "metadata": {
        "colab": {
          "base_uri": "https://localhost:8080/"
        },
        "id": "wYfC1Ty2W46Y",
        "outputId": "80958654-77a1-4811-acfd-bc82b3ef5b79"
      },
      "execution_count": 8,
      "outputs": [
        {
          "output_type": "stream",
          "name": "stdout",
          "text": [
            "Result of element-wise multiplication: [ 5 12 21 32]\n"
          ]
        }
      ]
    },
    {
      "cell_type": "markdown",
      "source": [
        "8.Create a line plot with multiple lines using Matplotlib."
      ],
      "metadata": {
        "id": "yR6OeIyBXDEE"
      }
    },
    {
      "cell_type": "code",
      "source": [
        "import matplotlib.pyplot as plt\n",
        "\n",
        "# Sample data\n",
        "x = [1, 2, 3, 4, 5]\n",
        "y1 = [10, 20, 25, 30, 40]\n",
        "y2 = [5, 15, 20, 25, 35]\n",
        "y3 = [2, 10, 15, 22, 28]\n",
        "\n",
        "# Creating the line plot\n",
        "plt.plot(x, y1, marker='o', linestyle='-', color='r', label='Line 1')\n",
        "plt.plot(x, y2, marker='s', linestyle='--', color='g', label='Line 2')\n",
        "plt.plot(x, y3, marker='^', linestyle='-.', color='b', label='Line 3')\n",
        "\n",
        "# Adding title and labels\n",
        "plt.title('Multiple Line Plot')\n",
        "plt.xlabel('X-axis')\n",
        "plt.ylabel('Y-axis')\n",
        "\n",
        "# Adding legend\n",
        "plt.legend()\n",
        "\n",
        "# Display the plot\n",
        "plt.show()\n"
      ],
      "metadata": {
        "colab": {
          "base_uri": "https://localhost:8080/",
          "height": 472
        },
        "id": "pC4T4hciXG1w",
        "outputId": "5de97ed9-053a-440e-a433-295f0e697266"
      },
      "execution_count": 9,
      "outputs": [
        {
          "output_type": "display_data",
          "data": {
            "text/plain": [
              "<Figure size 640x480 with 1 Axes>"
            ],
            "image/png": "[encoded data removed]"
          },
          "metadata": {}
        }
      ]
    },
    {
      "cell_type": "markdown",
      "source": [
        "9.Generate a Pandas DataFrame and filter rows where a column value is greater than a threshold."
      ],
      "metadata": {
        "id": "AggrZE6xXSsS"
      }
    },
    {
      "cell_type": "code",
      "source": [
        "import pandas as pd\n",
        "\n",
        "# Create a simple DataFrame\n",
        "data = {\n",
        "    'Name': ['Alice', 'Bob', 'Charlie', 'David', 'Eve'],\n",
        "    'Age': [25, 30, 35, 40, 28]\n",
        "}\n",
        "\n",
        "df = pd.DataFrame(data)\n",
        "\n",
        "# Set threshold\n",
        "threshold = 30\n",
        "\n",
        "# Filter rows where 'Age' is greater than threshold\n",
        "filtered_df = df[df['Age'] > threshold]\n",
        "\n",
        "# Print the filtered DataFrame\n",
        "print(filtered_df)\n"
      ],
      "metadata": {
        "colab": {
          "base_uri": "https://localhost:8080/"
        },
        "id": "ry-TDCkNXWkV",
        "outputId": "2ce3a7d2-5b35-4a8a-b7b5-4378ab885373"
      },
      "execution_count": 10,
      "outputs": [
        {
          "output_type": "stream",
          "name": "stdout",
          "text": [
            "      Name  Age\n",
            "2  Charlie   35\n",
            "3    David   40\n"
          ]
        }
      ]
    },
    {
      "cell_type": "markdown",
      "source": [
        "10.Create a histogram using Seaborn to visualize a distribution."
      ],
      "metadata": {
        "id": "_nQsIcL3XeUA"
      }
    },
    {
      "cell_type": "code",
      "source": [
        "import seaborn as sns\n",
        "import matplotlib.pyplot as plt\n",
        "import numpy as np\n",
        "\n",
        "# Generate random data\n",
        "data = np.random.randn(1000)  # 1000 random numbers from a normal distribution\n",
        "\n",
        "# Create the histogram\n",
        "sns.histplot(data, bins=30, kde=True)\n",
        "\n",
        "# Show the plot\n",
        "plt.xlabel(\"Value\")\n",
        "plt.ylabel(\"Frequency\")\n",
        "plt.title(\"Histogram of Random Data\")\n",
        "plt.show()\n"
      ],
      "metadata": {
        "colab": {
          "base_uri": "https://localhost:8080/",
          "height": 472
        },
        "id": "rJwqBuZ_XjNx",
        "outputId": "5ec2b2c4-5b94-4f5c-b223-d9d2d55f924f"
      },
      "execution_count": 11,
      "outputs": [
        {
          "output_type": "display_data",
          "data": {
            "text/plain": [
              "<Figure size 640x480 with 1 Axes>"
            ],
            "image/png": "[encoded data removed]"
          },
          "metadata": {}
        }
      ]
    },
    {
      "cell_type": "markdown",
      "source": [
        "11.Perform matrix multiplication using NumPy."
      ],
      "metadata": {
        "id": "FjFEC9tYXsVf"
      }
    },
    {
      "cell_type": "code",
      "source": [
        "import numpy as np\n",
        "\n",
        "# Define two matrices\n",
        "A = np.array([[1, 2], [3, 4]])\n",
        "B = np.array([[5, 6], [7, 8]])\n",
        "\n",
        "# Perform matrix multiplication\n",
        "result = np.dot(A, B)\n",
        "\n",
        "# Print the result\n",
        "print(\"Matrix A:\\n\", A)\n",
        "print(\"Matrix B:\\n\", B)\n",
        "print(\"Multiplication Result:\\n\", result)\n"
      ],
      "metadata": {
        "colab": {
          "base_uri": "https://localhost:8080/"
        },
        "id": "fsMTIFfnXwuC",
        "outputId": "49ba4fa4-68b9-4f61-a6bd-12e3ffc78673"
      },
      "execution_count": 12,
      "outputs": [
        {
          "output_type": "stream",
          "name": "stdout",
          "text": [
            "Matrix A:\n",
            " [[1 2]\n",
            " [3 4]]\n",
            "Matrix B:\n",
            " [[5 6]\n",
            " [7 8]]\n",
            "Multiplication Result:\n",
            " [[19 22]\n",
            " [43 50]]\n"
          ]
        }
      ]
    },
    {
      "cell_type": "markdown",
      "source": [
        "12.Use Pandas to load a CSV file and display its first 5 rows."
      ],
      "metadata": {
        "id": "j-52LMCdX3ok"
      }
    },
    {
      "cell_type": "code",
      "source": [
        "import pandas as pd\n",
        "\n",
        "# Check if the file path is correct\n",
        "file_path = \"your_file.csv\"  # Replace with your actual CSV file path\n",
        "\n",
        "try:\n",
        "    # Load the CSV file\n",
        "    df = pd.read_csv(file_path)\n",
        "\n",
        "    # Display the first 5 rows\n",
        "    print(df.head())\n",
        "\n",
        "except FileNotFoundError:\n",
        "    print(\"Error: The file was not found. Please check the file path.\")\n",
        "\n",
        "except pd.errors.EmptyDataError:\n",
        "    print(\"Error: The file is empty.\")\n",
        "\n",
        "except pd.errors.ParserError:\n",
        "    print(\"Error: The file could not be parsed. Check if it's a valid CSV.\")\n"
      ],
      "metadata": {
        "colab": {
          "base_uri": "https://localhost:8080/"
        },
        "id": "1O08H9VXX8Sq",
        "outputId": "671fa5f3-f453-44cd-ebe8-346d68a9335c"
      },
      "execution_count": 14,
      "outputs": [
        {
          "output_type": "stream",
          "name": "stdout",
          "text": [
            "Error: The file was not found. Please check the file path.\n"
          ]
        }
      ]
    },
    {
      "cell_type": "markdown",
      "source": [
        "13.Create a 3D scatter plot using Plotly."
      ],
      "metadata": {
        "id": "Z-rjtSsIYL3m"
      }
    },
    {
      "cell_type": "code",
      "source": [
        "import plotly.express as px\n",
        "import pandas as pd\n",
        "\n",
        "# Sample data\n",
        "data = {\n",
        "    'x': [1, 2, 3, 4, 5, 6, 7, 8, 9, 10],\n",
        "    'y': [2, 3, 5, 7, 1, 4, 6, 8, 10, 9],\n",
        "    'z': [5, 8, 2, 6, 3, 9, 1, 7, 4, 10]\n",
        "}\n",
        "\n",
        "df = pd.DataFrame(data)\n",
        "\n",
        "# Create 3D scatter plot\n",
        "fig = px.scatter_3d(df, x='x', y='y', z='z', title=\"3D Scatter Plot\")\n",
        "\n",
        "# Show plot\n",
        "fig.show()\n"
      ],
      "metadata": {
        "colab": {
          "base_uri": "https://localhost:8080/",
          "height": 542
        },
        "id": "EdrvQ01DYdLs",
        "outputId": "5a6a205a-0adf-423d-d219-9f07ddc0157a"
      },
      "execution_count": 15,
      "outputs": [
        {
          "output_type": "display_data",
          "data": {
            "text/html": [
              "<html>\n",
              "<head><meta charset=\"utf-8\" /></head>\n",
              "<body>\n",
              "    <div>            <script src=\"https://cdnjs.cloudflare.com/ajax/libs/mathjax/2.7.5/MathJax.js?config=TeX-AMS-MML_SVG\"></script><script type=\"text/javascript\">if (window.MathJax && window.MathJax.Hub && window.MathJax.Hub.Config) {window.MathJax.Hub.Config({SVG: {font: \"STIX-Web\"}});}</script>                <script type=\"text/javascript\">window.PlotlyConfig = {MathJaxConfig: 'local'};</script>\n",
              "        <script charset=\"utf-8\" src=\"https://cdn.plot.ly/plotly-2.35.2.min.js\"></script>                <div id=\"be70c3ab-54a9-488f-9005-0dda3a27418f\" class=\"plotly-graph-div\" style=\"height:525px; width:100%;\"></div>            <script type=\"text/javascript\">                                    window.PLOTLYENV=window.PLOTLYENV || {};                                    if (document.getElementById(\"be70c3ab-54a9-488f-9005-0dda3a27418f\")) {                    Plotly.newPlot(                        \"be70c3ab-54a9-488f-9005-0dda3a27418f\",                        [{\"hovertemplate\":\"x=%{x}\\u003cbr\\u003ey=%{y}\\u003cbr\\u003ez=%{z}\\u003cextra\\u003e\\u003c\\u002fextra\\u003e\",\"legendgroup\":\"\",\"marker\":{\"color\":\"#636efa\",\"symbol\":\"circle\"},\"mode\":\"markers\",\"name\":\"\",\"scene\":\"scene\",\"showlegend\":false,\"x\":[1,2,3,4,5,6,7,8,9,10],\"y\":[2,3,5,7,1,4,6,8,10,9],\"z\":[5,8,2,6,3,9,1,7,4,10],\"type\":\"scatter3d\"}],                        {\"template\":{\"data\":{\"histogram2dcontour\":[{\"type\":\"histogram2dcontour\",\"colorbar\":{\"outlinewidth\":0,\"ticks\":\"\"},\"colorscale\":[[0.0,\"#0d0887\"],[0.1111111111111111,\"#46039f\"],[0.2222222222222222,\"#7201a8\"],[0.3333333333333333,\"#9c179e\"],[0.4444444444444444,\"#bd3786\"],[0.5555555555555556,\"#d8576b\"],[0.6666666666666666,\"#ed7953\"],[0.7777777777777778,\"#fb9f3a\"],[0.8888888888888888,\"#fdca26\"],[1.0,\"#f0f921\"]]}],\"choropleth\":[{\"type\":\"choropleth\",\"colorbar\":{\"outlinewidth\":0,\"ticks\":\"\"}}],\"histogram2d\":[{\"type\":\"histogram2d\",\"colorbar\":{\"outlinewidth\":0,\"ticks\":\"\"},\"colorscale\":[[0.0,\"#0d0887\"],[0.1111111111111111,\"#46039f\"],[0.2222222222222222,\"#7201a8\"],[0.3333333333333333,\"#9c179e\"],[0.4444444444444444,\"#bd3786\"],[0.5555555555555556,\"#d8576b\"],[0.6666666666666666,\"#ed7953\"],[0.7777777777777778,\"#fb9f3a\"],[0.8888888888888888,\"#fdca26\"],[1.0,\"#f0f921\"]]}],\"heatmap\":[{\"type\":\"heatmap\",\"colorbar\":{\"outlinewidth\":0,\"ticks\":\"\"},\"colorscale\":[[0.0,\"#0d0887\"],[0.1111111111111111,\"#46039f\"],[0.2222222222222222,\"#7201a8\"],[0.3333333333333333,\"#9c179e\"],[0.4444444444444444,\"#bd3786\"],[0.5555555555555556,\"#d8576b\"],[0.6666666666666666,\"#ed7953\"],[0.7777777777777778,\"#fb9f3a\"],[0.8888888888888888,\"#fdca26\"],[1.0,\"#f0f921\"]]}],\"heatmapgl\":[{\"type\":\"heatmapgl\",\"colorbar\":{\"outlinewidth\":0,\"ticks\":\"\"},\"colorscale\":[[0.0,\"#0d0887\"],[0.1111111111111111,\"#46039f\"],[0.2222222222222222,\"#7201a8\"],[0.3333333333333333,\"#9c179e\"],[0.4444444444444444,\"#bd3786\"],[0.5555555555555556,\"#d8576b\"],[0.6666666666666666,\"#ed7953\"],[0.7777777777777778,\"#fb9f3a\"],[0.8888888888888888,\"#fdca26\"],[1.0,\"#f0f921\"]]}],\"contourcarpet\":[{\"type\":\"contourcarpet\",\"colorbar\":{\"outlinewidth\":0,\"ticks\":\"\"}}],\"contour\":[{\"type\":\"contour\",\"colorbar\":{\"outlinewidth\":0,\"ticks\":\"\"},\"colorscale\":[[0.0,\"#0d0887\"],[0.1111111111111111,\"#46039f\"],[0.2222222222222222,\"#7201a8\"],[0.3333333333333333,\"#9c179e\"],[0.4444444444444444,\"#bd3786\"],[0.5555555555555556,\"#d8576b\"],[0.6666666666666666,\"#ed7953\"],[0.7777777777777778,\"#fb9f3a\"],[0.8888888888888888,\"#fdca26\"],[1.0,\"#f0f921\"]]}],\"surface\":[{\"type\":\"surface\",\"colorbar\":{\"outlinewidth\":0,\"ticks\":\"\"},\"colorscale\":[[0.0,\"#0d0887\"],[0.1111111111111111,\"#46039f\"],[0.2222222222222222,\"#7201a8\"],[0.3333333333333333,\"#9c179e\"],[0.4444444444444444,\"#bd3786\"],[0.5555555555555556,\"#d8576b\"],[0.6666666666666666,\"#ed7953\"],[0.7777777777777778,\"#fb9f3a\"],[0.8888888888888888,\"#fdca26\"],[1.0,\"#f0f921\"]]}],\"mesh3d\":[{\"type\":\"mesh3d\",\"colorbar\":{\"outlinewidth\":0,\"ticks\":\"\"}}],\"scatter\":[{\"fillpattern\":{\"fillmode\":\"overlay\",\"size\":10,\"solidity\":0.2},\"type\":\"scatter\"}],\"parcoords\":[{\"type\":\"parcoords\",\"line\":{\"colorbar\":{\"outlinewidth\":0,\"ticks\":\"\"}}}],\"scatterpolargl\":[{\"type\":\"scatterpolargl\",\"marker\":{\"colorbar\":{\"outlinewidth\":0,\"ticks\":\"\"}}}],\"bar\":[{\"error_x\":{\"color\":\"#2a3f5f\"},\"error_y\":{\"color\":\"#2a3f5f\"},\"marker\":{\"line\":{\"color\":\"#E5ECF6\",\"width\":0.5},\"pattern\":{\"fillmode\":\"overlay\",\"size\":10,\"solidity\":0.2}},\"type\":\"bar\"}],\"scattergeo\":[{\"type\":\"scattergeo\",\"marker\":{\"colorbar\":{\"outlinewidth\":0,\"ticks\":\"\"}}}],\"scatterpolar\":[{\"type\":\"scatterpolar\",\"marker\":{\"colorbar\":{\"outlinewidth\":0,\"ticks\":\"\"}}}],\"histogram\":[{\"marker\":{\"pattern\":{\"fillmode\":\"overlay\",\"size\":10,\"solidity\":0.2}},\"type\":\"histogram\"}],\"scattergl\":[{\"type\":\"scattergl\",\"marker\":{\"colorbar\":{\"outlinewidth\":0,\"ticks\":\"\"}}}],\"scatter3d\":[{\"type\":\"scatter3d\",\"line\":{\"colorbar\":{\"outlinewidth\":0,\"ticks\":\"\"}},\"marker\":{\"colorbar\":{\"outlinewidth\":0,\"ticks\":\"\"}}}],\"scattermapbox\":[{\"type\":\"scattermapbox\",\"marker\":{\"colorbar\":{\"outlinewidth\":0,\"ticks\":\"\"}}}],\"scatterternary\":[{\"type\":\"scatterternary\",\"marker\":{\"colorbar\":{\"outlinewidth\":0,\"ticks\":\"\"}}}],\"scattercarpet\":[{\"type\":\"scattercarpet\",\"marker\":{\"colorbar\":{\"outlinewidth\":0,\"ticks\":\"\"}}}],\"carpet\":[{\"aaxis\":{\"endlinecolor\":\"#2a3f5f\",\"gridcolor\":\"white\",\"linecolor\":\"white\",\"minorgridcolor\":\"white\",\"startlinecolor\":\"#2a3f5f\"},\"baxis\":{\"endlinecolor\":\"#2a3f5f\",\"gridcolor\":\"white\",\"linecolor\":\"white\",\"minorgridcolor\":\"white\",\"startlinecolor\":\"#2a3f5f\"},\"type\":\"carpet\"}],\"table\":[{\"cells\":{\"fill\":{\"color\":\"#EBF0F8\"},\"line\":{\"color\":\"white\"}},\"header\":{\"fill\":{\"color\":\"#C8D4E3\"},\"line\":{\"color\":\"white\"}},\"type\":\"table\"}],\"barpolar\":[{\"marker\":{\"line\":{\"color\":\"#E5ECF6\",\"width\":0.5},\"pattern\":{\"fillmode\":\"overlay\",\"size\":10,\"solidity\":0.2}},\"type\":\"barpolar\"}],\"pie\":[{\"automargin\":true,\"type\":\"pie\"}]},\"layout\":{\"autotypenumbers\":\"strict\",\"colorway\":[\"#636efa\",\"#EF553B\",\"#00cc96\",\"#ab63fa\",\"#FFA15A\",\"#19d3f3\",\"#FF6692\",\"#B6E880\",\"#FF97FF\",\"#FECB52\"],\"font\":{\"color\":\"#2a3f5f\"},\"hovermode\":\"closest\",\"hoverlabel\":{\"align\":\"left\"},\"paper_bgcolor\":\"white\",\"plot_bgcolor\":\"#E5ECF6\",\"polar\":{\"bgcolor\":\"#E5ECF6\",\"angularaxis\":{\"gridcolor\":\"white\",\"linecolor\":\"white\",\"ticks\":\"\"},\"radialaxis\":{\"gridcolor\":\"white\",\"linecolor\":\"white\",\"ticks\":\"\"}},\"ternary\":{\"bgcolor\":\"#E5ECF6\",\"aaxis\":{\"gridcolor\":\"white\",\"linecolor\":\"white\",\"ticks\":\"\"},\"baxis\":{\"gridcolor\":\"white\",\"linecolor\":\"white\",\"ticks\":\"\"},\"caxis\":{\"gridcolor\":\"white\",\"linecolor\":\"white\",\"ticks\":\"\"}},\"coloraxis\":{\"colorbar\":{\"outlinewidth\":0,\"ticks\":\"\"}},\"colorscale\":{\"sequential\":[[0.0,\"#0d0887\"],[0.1111111111111111,\"#46039f\"],[0.2222222222222222,\"#7201a8\"],[0.3333333333333333,\"#9c179e\"],[0.4444444444444444,\"#bd3786\"],[0.5555555555555556,\"#d8576b\"],[0.6666666666666666,\"#ed7953\"],[0.7777777777777778,\"#fb9f3a\"],[0.8888888888888888,\"#fdca26\"],[1.0,\"#f0f921\"]],\"sequentialminus\":[[0.0,\"#0d0887\"],[0.1111111111111111,\"#46039f\"],[0.2222222222222222,\"#7201a8\"],[0.3333333333333333,\"#9c179e\"],[0.4444444444444444,\"#bd3786\"],[0.5555555555555556,\"#d8576b\"],[0.6666666666666666,\"#ed7953\"],[0.7777777777777778,\"#fb9f3a\"],[0.8888888888888888,\"#fdca26\"],[1.0,\"#f0f921\"]],\"diverging\":[[0,\"#8e0152\"],[0.1,\"#c51b7d\"],[0.2,\"#de77ae\"],[0.3,\"#f1b6da\"],[0.4,\"#fde0ef\"],[0.5,\"#f7f7f7\"],[0.6,\"#e6f5d0\"],[0.7,\"#b8e186\"],[0.8,\"#7fbc41\"],[0.9,\"#4d9221\"],[1,\"#276419\"]]},\"xaxis\":{\"gridcolor\":\"white\",\"linecolor\":\"white\",\"ticks\":\"\",\"title\":{\"standoff\":15},\"zerolinecolor\":\"white\",\"automargin\":true,\"zerolinewidth\":2},\"yaxis\":{\"gridcolor\":\"white\",\"linecolor\":\"white\",\"ticks\":\"\",\"title\":{\"standoff\":15},\"zerolinecolor\":\"white\",\"automargin\":true,\"zerolinewidth\":2},\"scene\":{\"xaxis\":{\"backgroundcolor\":\"#E5ECF6\",\"gridcolor\":\"white\",\"linecolor\":\"white\",\"showbackground\":true,\"ticks\":\"\",\"zerolinecolor\":\"white\",\"gridwidth\":2},\"yaxis\":{\"backgroundcolor\":\"#E5ECF6\",\"gridcolor\":\"white\",\"linecolor\":\"white\",\"showbackground\":true,\"ticks\":\"\",\"zerolinecolor\":\"white\",\"gridwidth\":2},\"zaxis\":{\"backgroundcolor\":\"#E5ECF6\",\"gridcolor\":\"white\",\"linecolor\":\"white\",\"showbackground\":true,\"ticks\":\"\",\"zerolinecolor\":\"white\",\"gridwidth\":2}},\"shapedefaults\":{\"line\":{\"color\":\"#2a3f5f\"}},\"annotationdefaults\":{\"arrowcolor\":\"#2a3f5f\",\"arrowhead\":0,\"arrowwidth\":1},\"geo\":{\"bgcolor\":\"white\",\"landcolor\":\"#E5ECF6\",\"subunitcolor\":\"white\",\"showland\":true,\"showlakes\":true,\"lakecolor\":\"white\"},\"title\":{\"x\":0.05},\"mapbox\":{\"style\":\"light\"}}},\"scene\":{\"domain\":{\"x\":[0.0,1.0],\"y\":[0.0,1.0]},\"xaxis\":{\"title\":{\"text\":\"x\"}},\"yaxis\":{\"title\":{\"text\":\"y\"}},\"zaxis\":{\"title\":{\"text\":\"z\"}}},\"legend\":{\"tracegroupgap\":0},\"title\":{\"text\":\"3D Scatter Plot\"}},                        {\"responsive\": true}                    ).then(function(){\n",
              "                            \n",
              "var gd = document.getElementById('be70c3ab-54a9-488f-9005-0dda3a27418f');\n",
              "var x = new MutationObserver(function (mutations, observer) {{\n",
              "        var display = window.getComputedStyle(gd).display;\n",
              "        if (!display || display === 'none') {{\n",
              "            console.log([gd, 'removed!']);\n",
              "            Plotly.purge(gd);\n",
              "            observer.disconnect();\n",
              "        }}\n",
              "}});\n",
              "\n",
              "// Listen for the removal of the full notebook cells\n",
              "var notebookContainer = gd.closest('#notebook-container');\n",
              "if (notebookContainer) {{\n",
              "    x.observe(notebookContainer, {childList: true});\n",
              "}}\n",
              "\n",
              "// Listen for the clearing of the current output cell\n",
              "var outputEl = gd.closest('.output');\n",
              "if (outputEl) {{\n",
              "    x.observe(outputEl, {childList: true});\n",
              "}}\n",
              "\n",
              "                        })                };                            </script>        </div>\n",
              "</body>\n",
              "</html>"
            ]
          },
          "metadata": {}
        }
      ]
    }
  ]
}